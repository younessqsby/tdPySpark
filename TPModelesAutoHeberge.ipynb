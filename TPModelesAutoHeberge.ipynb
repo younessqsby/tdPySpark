{
 "cells": [
  {
   "cell_type": "code",
   "execution_count": null,
   "metadata": {},
   "outputs": [],
   "source": [
    "from pyspark.sql import SparkSession\n",
    "from pyspark.sql.functions import col, sum, avg, max, min, lit"
   ]
  },
  {
   "cell_type": "code",
   "execution_count": null,
   "metadata": {},
   "outputs": [],
   "source": [
    "spark = SparkSession.builder.appName(\"Exercises Modeles AutoHeberge\").getOrCreate()"
   ]
  },
  {
   "cell_type": "code",
   "execution_count": null,
   "metadata": {},
   "outputs": [],
   "source": [
    "# --- Exercice 1: Analyse des ventes ---\n",
    "pathCSVVentes = \"/Users/ayaelyaagoubi/Downloads/ventes.csv\"\n",
    "ventes = spark.read.csv(pathCSVVentes, header=True, inferSchema=True)\n",
    "ventes = ventes.withColumn(\"Chiffre_d_affaires\", col(\"Quantité\") * col(\"Prix_unitaire\"))\n",
    "chiffre_affaires_total = ventes.agg(sum(\"Chiffre_d_affaires\").alias(\"Chiffre_affaires_total\")).collect()[0][0]\n",
    "\n",
    "produit_plus_vendu = ventes.groupBy(\"Produit\").sum(\"Quantité\").withColumnRenamed(\"sum(Quantité)\", \"Total_Quantité\") \\\n",
    "    .orderBy(col(\"Total_Quantité\").desc()).first()\n",
    "\n",
    "print(f\"Chiffre d'affaires total : {chiffre_affaires_total} \")\n",
    "print(f\"Produit le plus vendu : {produit_plus_vendu['Produit']} ({produit_plus_vendu['Total_Quantité']} unités)\")\n"
   ]
  },
  {
   "cell_type": "code",
   "execution_count": null,
   "metadata": {},
   "outputs": [],
   "source": [
    "# --- Exercice 2: Analyse des utilisateurs ---\n",
    "pathJSONUtilisateurs =  \"/Users/ayaelyaagoubi/Downloads/utilisateurs.json\"\n",
    "utilisateurs = spark.read.json(\"utilisateurs.json\")\n",
    "\n",
    "age_moyen = utilisateurs.select(avg(\"âge\").alias(\"Âge_moyen\")).collect()[0][0]\n",
    "\n",
    "utilisateurs_par_ville = utilisateurs.groupBy(\"ville\").count()\n",
    "\n",
    "plus_jeune_utilisateur = utilisateurs.orderBy(col(\"âge\").asc()).first()\n",
    "\n",
    "print(f\"Âge moyen : {age_moyen} ans\")\n",
    "utilisateurs_par_ville.show()\n",
    "print(f\"Plus jeune utilisateur : {plus_jeune_utilisateur['nom']} ({plus_jeune_utilisateur['âge']} ans)\")\n"
   ]
  },
  {
   "cell_type": "code",
   "execution_count": null,
   "metadata": {},
   "outputs": [],
   "source": [
    "# --- Exercice 3: Nettoyage de données ---\n",
    "pathCSVClients = \"/Users/ayaelyaagoubi/Downloads/clients.csv\"\n",
    "clients = spark.read.csv(\"clients.csv\", header=True, inferSchema=True)\n",
    "\n",
    "age_moyen = clients.select(mean(\"Âge\").alias(\"moyenne_age\")).collect()[0][0]\n",
    "\n",
    "clients = clients.fillna({\"Âge\": age_moyen})\n",
    "\n",
    "clients = clients.fillna({\"Ville\": \"Inconnue\"})\n",
    "\n",
    "clients = clients.filter(col(\"Revenu\").isNotNull())\n",
    "\n",
    "clients.show()"
   ]
  },
  {
   "cell_type": "code",
   "execution_count": null,
   "metadata": {},
   "outputs": [],
   "source": [
    "# --- Exercice 4: Produits les plus chers ---\n",
    "pathCSVProduits = \"/Users/ayaelyaagoubi/Downloads/produits.csv\"\n",
    "produits = spark.read.csv(pathCSVProduits, header=True, inferSchema=True)\n",
    "\n",
    "produits_plus_chers = produits.orderBy(col(\"Prix\").desc()).limit(3)\n",
    "\n",
    "produits_plus_chers.show()\n"
   ]
  },
  {
   "cell_type": "code",
   "execution_count": null,
   "metadata": {},
   "outputs": [],
   "source": [
    "# --- Exercice 5: Analyse des transactions ---\n",
    "pathCSVTransaction= \"/Users/ayaelyaagoubi/Downloads/transactions.csv\"\n",
    "\n",
    "transactions = spark.read.csv(pathCSVTransaction, header=True, inferSchema=True)\n",
    "\n",
    "depenses_totales = transactions.groupBy(\"Client\").sum(\"Montant\").withColumnRenamed(\"sum(Montant)\", \"Dépenses_totales\")\n",
    "\n",
    "client_plus_depense = depenses_totales.orderBy(col(\"Dépenses_totales\").desc()).first()\n",
    "\n",
    "depenses_totales.show()\n",
    "print(f\"Client ayant dépensé le plus : {client_plus_depense['Client']} ({client_plus_depense['Dépenses_totales']} €)\")"
   ]
  },
  {
   "cell_type": "code",
   "execution_count": null,
   "metadata": {},
   "outputs": [],
   "source": [
    "# --- Exercice 6: Agrégation de données par catégorie ---\n",
    "pathCSVProduits = \"/Users/ayaelyaagoubi/Downloads/produits.csv\"\n",
    "\n",
    "produits = spark.read.csv(pathCSVProduits, header=True, inferSchema=True)\n",
    "\n",
    "statistiques_categorie = produits.groupBy(\"Catégorie\").agg(\n",
    "    avg(\"Prix\").alias(\"Prix_moyen\"),\n",
    "    sum(\"Prix\").alias(\"Prix_total\")\n",
    ")\n",
    "\n",
    "statistiques_categorie.show()"
   ]
  }
 ],
 "metadata": {
  "kernelspec": {
   "display_name": "Python 3",
   "language": "python",
   "name": "python3"
  },
  "language_info": {
   "codemirror_mode": {
    "name": "ipython",
    "version": 3
   },
   "file_extension": ".py",
   "mimetype": "text/x-python",
   "name": "python",
   "nbconvert_exporter": "python",
   "pygments_lexer": "ipython3",
   "version": "3.10.4"
  },
  "orig_nbformat": 4
 },
 "nbformat": 4,
 "nbformat_minor": 2
}
